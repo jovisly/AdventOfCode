{
 "cells": [
  {
   "cell_type": "code",
   "execution_count": 56,
   "id": "11e2e514",
   "metadata": {},
   "outputs": [],
   "source": [
    "from part1 import get_starting_point\n",
    "\n",
    "def take_one_step(layout, position):\n",
    "    \"\"\"Returns positions that can be reached from the current position.\n",
    "    \n",
    "    Takes care of infinite boundary condition.\n",
    "    \"\"\"\n",
    "    set_new_pos = set()\n",
    "    for dir in [(-1, 0), (1, 0), (0, -1), (0, 1)]:\n",
    "        new_pos = (position[0] + dir[0], position[1] + dir[1])\n",
    "        # Support infinite boundary condition.\n",
    "        new_pos_mod = (new_pos[0] % len(layout), new_pos[1] % len(layout[0]))\n",
    "        if layout[new_pos_mod[0]][new_pos_mod[1]] != \"#\":\n",
    "            set_new_pos.add(new_pos)\n",
    "\n",
    "    return set_new_pos"
   ]
  },
  {
   "cell_type": "code",
   "execution_count": 57,
   "id": "8dc5c0fb",
   "metadata": {},
   "outputs": [],
   "source": [
    "filename = \"input.txt\"\n",
    "\n",
    "lines = open(filename, encoding=\"utf-8\").read().splitlines()\n",
    "layout = [list(l) for l in lines]\n",
    "start_position = get_starting_point(layout)\n",
    "\n",
    "size = len(layout)"
   ]
  },
  {
   "cell_type": "code",
   "execution_count": 58,
   "id": "ba4410bc",
   "metadata": {},
   "outputs": [],
   "source": [
    "size\n",
    "half_size = int((size - 1) / 2)"
   ]
  },
  {
   "cell_type": "code",
   "execution_count": 59,
   "id": "82aa82e8",
   "metadata": {},
   "outputs": [
    {
     "data": {
      "text/plain": [
       "65"
      ]
     },
     "execution_count": 59,
     "metadata": {},
     "output_type": "execute_result"
    }
   ],
   "source": [
    "half_size"
   ]
  },
  {
   "cell_type": "code",
   "execution_count": 60,
   "id": "7fdc1f4c",
   "metadata": {},
   "outputs": [
    {
     "name": "stderr",
     "output_type": "stream",
     "text": [
      "100%|██████████████████████████████████████████████████████████████████████████████████████████████████████████████████████████████████████████████████████████████████████████████████████████████████████████████████████| 786/786 [09:19<00:00,  1.40it/s]\n"
     ]
    }
   ],
   "source": [
    "from tqdm import tqdm\n",
    "\n",
    "curr_positions = {start_position}\n",
    "list_num_positions = []\n",
    "num_steps = size * 6\n",
    "for i in tqdm(range(num_steps)):\n",
    "    next_positions = set()\n",
    "    for pos in curr_positions:\n",
    "        out = take_one_step(layout, pos)\n",
    "        # Add one by one; don't do union. Union is slow!\n",
    "        for o in out:\n",
    "            next_positions.add(o)\n",
    "\n",
    "    curr_positions = next_positions\n",
    "\n",
    "    step_num = i + 1\n",
    "    if (step_num - half_size) % size == 0: \n",
    "        list_num_positions.append(len(curr_positions))"
   ]
  },
  {
   "cell_type": "code",
   "execution_count": 61,
   "id": "7374f095",
   "metadata": {},
   "outputs": [
    {
     "data": {
      "text/plain": [
       "[3734, 33285, 92268, 180683, 298530, 445809]"
      ]
     },
     "execution_count": 61,
     "metadata": {},
     "output_type": "execute_result"
    }
   ],
   "source": [
    "list_num_positions"
   ]
  },
  {
   "cell_type": "code",
   "execution_count": 62,
   "id": "4f74eff1",
   "metadata": {},
   "outputs": [],
   "source": [
    "from scipy.optimize import curve_fit\n",
    "import numpy as np\n",
    "\n",
    "def func(x, a, b, c):\n",
    "    return a * x * x + b * x + c"
   ]
  },
  {
   "cell_type": "code",
   "execution_count": 63,
   "id": "8126812e",
   "metadata": {},
   "outputs": [
    {
     "name": "stdout",
     "output_type": "stream",
     "text": [
      "popt\n",
      "[14716. 14835.  3734.]\n",
      "pcov\n",
      "[[ 9.76553183e-24 -4.88276591e-23  3.25517728e-23]\n",
      " [-4.88276591e-23  2.64971430e-22 -2.14841700e-22]\n",
      " [ 3.25517728e-23 -2.14841700e-22  2.99476309e-22]]\n"
     ]
    }
   ],
   "source": [
    "y = list_num_positions\n",
    "x = np.arange(0, len(y))\n",
    "\n",
    "popt, pcov = curve_fit(func, x, y)\n",
    "print(\"popt\")\n",
    "print(popt)\n",
    "print(\"pcov\")\n",
    "print(pcov)"
   ]
  },
  {
   "cell_type": "code",
   "execution_count": 64,
   "id": "290aba1f",
   "metadata": {},
   "outputs": [
    {
     "data": {
      "text/plain": [
       "[<matplotlib.lines.Line2D at 0x13a68ff40>]"
      ]
     },
     "execution_count": 64,
     "metadata": {},
     "output_type": "execute_result"
    },
    {
     "data": {
      "image/png": "[encoded data removed]",
      "text/plain": [
       "<Figure size 432x288 with 1 Axes>"
      ]
     },
     "metadata": {
      "needs_background": "light"
     },
     "output_type": "display_data"
    }
   ],
   "source": [
    "import matplotlib.pyplot as plt\n",
    "\n",
    "plt.plot(x, y, \".\", markersize=20, label='data')\n",
    "\n",
    "plt.plot(\n",
    "    x, func(x, *popt), 'g-',\n",
    "    label='fit: a=%5.3f, b=%5.3f, c=%5.3f' % tuple(popt)\n",
    ")"
   ]
  },
  {
   "cell_type": "code",
   "execution_count": 65,
   "id": "5774ec59",
   "metadata": {},
   "outputs": [
    {
     "name": "stdout",
     "output_type": "stream",
     "text": [
      "602259568764234\n"
     ]
    }
   ],
   "source": [
    "num_steps = 26501365\n",
    "\n",
    "print(round(func((num_steps - half_size) / size, *popt)))"
   ]
  }
 ],
 "metadata": {
  "kernelspec": {
   "display_name": "Python 3 (ipykernel)",
   "language": "python",
   "name": "python3"
  },
  "language_info": {
   "codemirror_mode": {
    "name": "ipython",
    "version": 3
   },
   "file_extension": ".py",
   "mimetype": "text/x-python",
   "name": "python",
   "nbconvert_exporter": "python",
   "pygments_lexer": "ipython3",
   "version": "3.9.17"
  }
 },
 "nbformat": 4,
 "nbformat_minor": 5
}
